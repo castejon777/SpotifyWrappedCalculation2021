{
  "nbformat": 4,
  "nbformat_minor": 0,
  "metadata": {
    "colab": {
      "name": "spotiwrapped.ipynb",
      "provenance": []
    },
    "kernelspec": {
      "name": "python3",
      "display_name": "Python 3"
    },
    "language_info": {
      "name": "python"
    }
  },
  "cells": [
    {
      "cell_type": "markdown",
      "metadata": {
        "id": "ak1-X-tylT3z"
      },
      "source": [
        "CALCULATE YOUR SPOTIFY WRAPPED BEFORE DECEMBER!!!!!\n",
        "\n",
        "1. You just need to request your personal data in the \"Privacy Settings\" section you can find in your Account. They will be sent to you by email in a few days. \n",
        "\n",
        "2. Download them from your email\n",
        "\n",
        "3. Upload all the archives named as \"StreamingHistoryX.json\" to Google Drive, to the Root directory\n",
        "\n",
        "4. Run all this code!\n",
        "\n",
        "5. Learn more about your taste!"
      ]
    },
    {
      "cell_type": "code",
      "metadata": {
        "colab": {
          "base_uri": "https://localhost:8080/"
        },
        "id": "0LsYmu2XhadR",
        "outputId": "95bc6476-9795-4251-e4f3-b69e078ebdaa"
      },
      "source": [
        "import pandas as pd\n",
        "import numpy as np\n",
        "from datetime import datetime \n",
        "import matplotlib.pyplot as plt\n",
        "\n",
        "\n",
        "from google.colab import drive\n",
        "drive.mount('/content/drive')\n"
      ],
      "execution_count": 1,
      "outputs": [
        {
          "output_type": "stream",
          "name": "stdout",
          "text": [
            "Mounted at /content/drive\n"
          ]
        }
      ]
    },
    {
      "cell_type": "code",
      "metadata": {
        "id": "Xh1_1Yewi2cX",
        "colab": {
          "base_uri": "https://localhost:8080/",
          "height": 424
        },
        "outputId": "05aad8d8-4902-46d1-cc83-81100bd105c4"
      },
      "source": [
        "data = pd.DataFrame()\n",
        "data0 = pd.read_json('/content/drive/MyDrive/MyData/StreamingHistory0.json')\n",
        "data1 = pd.read_json('/content/drive/MyDrive/MyData/StreamingHistory1.json')\n",
        "data2 = pd.read_json('/content/drive/MyDrive/MyData/StreamingHistory2.json')\n",
        "data3 = pd.read_json('/content/drive/MyDrive/MyData/StreamingHistory3.json')\n",
        "data= data.append(data0)\n",
        "data = data.append(data1)\n",
        "data = data.append(data2)\n",
        "data = data.append(data3)\n",
        "\n",
        "data.sort_values('endTime', ascending=True)\n",
        "\n",
        "data"
      ],
      "execution_count": 2,
      "outputs": [
        {
          "output_type": "execute_result",
          "data": {
            "text/html": [
              "<div>\n",
              "<style scoped>\n",
              "    .dataframe tbody tr th:only-of-type {\n",
              "        vertical-align: middle;\n",
              "    }\n",
              "\n",
              "    .dataframe tbody tr th {\n",
              "        vertical-align: top;\n",
              "    }\n",
              "\n",
              "    .dataframe thead th {\n",
              "        text-align: right;\n",
              "    }\n",
              "</style>\n",
              "<table border=\"1\" class=\"dataframe\">\n",
              "  <thead>\n",
              "    <tr style=\"text-align: right;\">\n",
              "      <th></th>\n",
              "      <th>endTime</th>\n",
              "      <th>artistName</th>\n",
              "      <th>trackName</th>\n",
              "      <th>msPlayed</th>\n",
              "    </tr>\n",
              "  </thead>\n",
              "  <tbody>\n",
              "    <tr>\n",
              "      <th>0</th>\n",
              "      <td>2020-11-05 16:27</td>\n",
              "      <td>Freddie Gibbs</td>\n",
              "      <td>Thuggin’</td>\n",
              "      <td>111641</td>\n",
              "    </tr>\n",
              "    <tr>\n",
              "      <th>1</th>\n",
              "      <td>2020-11-06 00:51</td>\n",
              "      <td>C. Tangana</td>\n",
              "      <td>Dealing My Pain</td>\n",
              "      <td>11350</td>\n",
              "    </tr>\n",
              "    <tr>\n",
              "      <th>2</th>\n",
              "      <td>2020-11-06 00:53</td>\n",
              "      <td>Cutemobb</td>\n",
              "      <td>Feelings</td>\n",
              "      <td>132060</td>\n",
              "    </tr>\n",
              "    <tr>\n",
              "      <th>3</th>\n",
              "      <td>2020-11-06 00:57</td>\n",
              "      <td>Cutemobb</td>\n",
              "      <td>Spiritual Gansters Doing Time In A Body</td>\n",
              "      <td>222111</td>\n",
              "    </tr>\n",
              "    <tr>\n",
              "      <th>4</th>\n",
              "      <td>2020-11-06 00:57</td>\n",
              "      <td>Cutemobb</td>\n",
              "      <td>Mama Ngéej</td>\n",
              "      <td>8688</td>\n",
              "    </tr>\n",
              "    <tr>\n",
              "      <th>...</th>\n",
              "      <td>...</td>\n",
              "      <td>...</td>\n",
              "      <td>...</td>\n",
              "      <td>...</td>\n",
              "    </tr>\n",
              "    <tr>\n",
              "      <th>3496</th>\n",
              "      <td>2021-11-06 18:42</td>\n",
              "      <td>Kanye West</td>\n",
              "      <td>No More Parties In LA</td>\n",
              "      <td>374413</td>\n",
              "    </tr>\n",
              "    <tr>\n",
              "      <th>3497</th>\n",
              "      <td>2021-11-06 19:13</td>\n",
              "      <td>Frank Ocean</td>\n",
              "      <td>Chanel</td>\n",
              "      <td>210285</td>\n",
              "    </tr>\n",
              "    <tr>\n",
              "      <th>3498</th>\n",
              "      <td>2021-11-06 19:16</td>\n",
              "      <td>Frank Ocean</td>\n",
              "      <td>Pink + White</td>\n",
              "      <td>184516</td>\n",
              "    </tr>\n",
              "    <tr>\n",
              "      <th>3499</th>\n",
              "      <td>2021-11-06 19:22</td>\n",
              "      <td>Frank Ocean</td>\n",
              "      <td>Seigfried</td>\n",
              "      <td>334570</td>\n",
              "    </tr>\n",
              "    <tr>\n",
              "      <th>3500</th>\n",
              "      <td>2021-11-06 19:23</td>\n",
              "      <td>Frank Ocean</td>\n",
              "      <td>Lens</td>\n",
              "      <td>48093</td>\n",
              "    </tr>\n",
              "  </tbody>\n",
              "</table>\n",
              "<p>33501 rows × 4 columns</p>\n",
              "</div>"
            ],
            "text/plain": [
              "               endTime  ... msPlayed\n",
              "0     2020-11-05 16:27  ...   111641\n",
              "1     2020-11-06 00:51  ...    11350\n",
              "2     2020-11-06 00:53  ...   132060\n",
              "3     2020-11-06 00:57  ...   222111\n",
              "4     2020-11-06 00:57  ...     8688\n",
              "...                ...  ...      ...\n",
              "3496  2021-11-06 18:42  ...   374413\n",
              "3497  2021-11-06 19:13  ...   210285\n",
              "3498  2021-11-06 19:16  ...   184516\n",
              "3499  2021-11-06 19:22  ...   334570\n",
              "3500  2021-11-06 19:23  ...    48093\n",
              "\n",
              "[33501 rows x 4 columns]"
            ]
          },
          "metadata": {},
          "execution_count": 2
        }
      ]
    },
    {
      "cell_type": "code",
      "metadata": {
        "id": "vssEyl1NlL7z"
      },
      "source": [
        ""
      ],
      "execution_count": null,
      "outputs": []
    },
    {
      "cell_type": "code",
      "metadata": {
        "colab": {
          "base_uri": "https://localhost:8080/",
          "height": 704
        },
        "id": "JCja16spm7fT",
        "outputId": "3ded56b6-853b-404e-b853-f60aecc26875"
      },
      "source": [
        "\n",
        "#TOP 10 LISTENED ARTISTS \n",
        "top10artistslistens = data['artistName'].value_counts().head(n=10)\n",
        "top10artistsnames = top10artistslistens.index.tolist()\n",
        "\n",
        "print(top10artistslistens)\n",
        "\n",
        "\n",
        "\n",
        "plt.rcParams['figure.figsize'] = (15, 7)\n",
        "fig, ax = plt.subplots()\n",
        "\n",
        "# Save the chart so we can loop through the bars below.\n",
        "bars = ax.bar(\n",
        "    x=top10artistsnames,\n",
        "    height=top10artistslistens,\n",
        ")\n",
        "\n",
        "# Axis formatting.\n",
        "ax.spines['top'].set_visible(False)\n",
        "ax.spines['right'].set_visible(False)\n",
        "ax.spines['left'].set_visible(False)\n",
        "ax.spines['bottom'].set_color('#DDDDDD')\n",
        "ax.tick_params(bottom=False, left=False)\n",
        "ax.set_axisbelow(True)\n",
        "ax.yaxis.grid(True, color='#EEEEEE')\n",
        "ax.xaxis.grid(False)\n",
        "\n",
        "# Add text annotations to the top of the bars.\n",
        "bar_color = bars[0].get_facecolor()\n",
        "for bar in bars:\n",
        "  ax.text(\n",
        "      bar.get_x() + bar.get_width() / 2,\n",
        "      bar.get_height() + 0.3,\n",
        "      round(bar.get_height(), 1),\n",
        "      horizontalalignment='center',\n",
        "      color=bar_color,\n",
        "      weight='bold'\n",
        "  )\n",
        "\n",
        "# Add labels and a title. Note the use of `labelpad` and `pad` to add some\n",
        "# extra space between the text and the tick labels.\n",
        "ax.set_xlabel('Artist', labelpad=15, color='#333333')\n",
        "ax.set_ylabel('Number of listens', labelpad=15, color='#333333')\n",
        "ax.set_title('TOP 10 LISTENED ARTISTS', pad=15, color='#333333',\n",
        "             weight='bold')\n",
        "\n",
        "plt.figure(figsize=(10,10))\n"
      ],
      "execution_count": 4,
      "outputs": [
        {
          "output_type": "stream",
          "name": "stdout",
          "text": [
            "Kanye West            2170\n",
            "Radiohead             1508\n",
            "Frank Ocean           1363\n",
            "Kendrick Lamar        1216\n",
            "Playboi Carti         1114\n",
            "The Beatles            899\n",
            "Tyler, The Creator     771\n",
            "C. Tangana             699\n",
            "JPEGMAFIA              614\n",
            "Stevie Wonder          530\n",
            "Name: artistName, dtype: int64\n"
          ]
        },
        {
          "output_type": "execute_result",
          "data": {
            "text/plain": [
              "<Figure size 720x720 with 0 Axes>"
            ]
          },
          "metadata": {},
          "execution_count": 4
        },
        {
          "output_type": "display_data",
          "data": {
            "image/png": "[encoded data removed]",
            "text/plain": [
              "<Figure size 1080x504 with 1 Axes>"
            ]
          },
          "metadata": {
            "needs_background": "light"
          }
        },
        {
          "output_type": "display_data",
          "data": {
            "text/plain": [
              "<Figure size 720x720 with 0 Axes>"
            ]
          },
          "metadata": {}
        }
      ]
    },
    {
      "cell_type": "code",
      "metadata": {
        "colab": {
          "base_uri": "https://localhost:8080/",
          "height": 633
        },
        "id": "52AqoQQ32uoP",
        "outputId": "047601f8-f5ee-4851-afdd-b7f1f15a379b"
      },
      "source": [
        "#DISCOVERED ARTISTS \n",
        "#Here you may need to add the name of the artists you usually listened years before in the topdiscoveredlistens.drop line\n",
        "top10discoveredlistens = pd.DataFrame\n",
        "\n",
        "top10discoveredlistens = data['artistName'].value_counts()\n",
        "top10discoveredlistens=top10discoveredlistens.drop(['Radiohead','Tame Impala', 'Westside Gunn','Madvillain','Joey Bada$$', 'Cutemobb', 'Sticky M.A.', 'The Smiths','Pusha T','Guns N\\' Roses','Nas','Agorazein','A$AP Rocky','BROCKHAMPTON','Red Hot Chili Peppers','David Bowie','Young Thug', 'Nirvana', 'Lil Uzi Vert', 'Dano', 'Michael Jackson','Drake', 'Earl Sweatshirt','Outkast','Gorillaz','KIDS SEE GHOSTS','The Smashing Pumpkins','The Weeknd','Elio Toffana','Yann Tiersen','Tyler, The Creator', 'Playboi Carti', 'Freddie Gibbs','The Beatles', 'Travis Scott','Kanye West','Kendrick Lamar','Arctic Monkeys', 'C. Tangana'], axis=0)\n",
        "top10discoveredlistens=top10discoveredlistens.head(n=15)\n",
        "top10discoverednames = top10discoveredlistens.index.tolist()\n",
        "#top10discoveredlistens=top10discoveredlistens.drop(['Radiohead','The Beatles', 'Travis Scott','Guns N' Roses'Kanye West',, axis=0)\n",
        "\n",
        "print(top10discoveredlistens)\n",
        "\n",
        "\n",
        "\n",
        "plt.rcParams['figure.figsize'] = (25, 7)\n",
        "fig, ax = plt.subplots()\n",
        "\n",
        "# Save the chart so we can loop through the bars below.\n",
        "bars = ax.bar(\n",
        "    x=top10discoverednames,\n",
        "    height=top10discoveredlistens,\n",
        ")\n",
        "\n",
        "# Axis formatting.\n",
        "ax.spines['top'].set_visible(False)\n",
        "ax.spines['right'].set_visible(False)\n",
        "ax.spines['left'].set_visible(False)\n",
        "ax.spines['bottom'].set_color('#DDDDDD')\n",
        "ax.tick_params(bottom=False, left=False)\n",
        "ax.set_axisbelow(True)\n",
        "ax.yaxis.grid(True, color='#EEEEEE')\n",
        "ax.xaxis.grid(False)\n",
        "\n",
        "# Add text annotations to the top of the bars.\n",
        "bar_color = bars[0].get_facecolor()\n",
        "for bar in bars:\n",
        "  ax.text(\n",
        "      bar.get_x() + bar.get_width() / 2,\n",
        "      bar.get_height() + 0.3,\n",
        "      round(bar.get_height(), 1),\n",
        "      horizontalalignment='center',\n",
        "      color=bar_color,\n",
        "      weight='bold'\n",
        "  )\n",
        "\n",
        "# Add labels and a title. Note the use of `labelpad` and `pad` to add some\n",
        "# extra space between the text and the tick labels.\n",
        "ax.set_xlabel('Artist', labelpad=15, color='#333333')\n",
        "ax.set_ylabel('Number of listens', labelpad=15, color='#333333')\n",
        "ax.set_title('TOP 10 DISCOVERED ARTISTS', pad=15, color='#333333',\n",
        "             weight='bold')\n",
        "\n",
        "\n"
      ],
      "execution_count": 6,
      "outputs": [
        {
          "output_type": "stream",
          "name": "stdout",
          "text": [
            "Frank Ocean               1363\n",
            "JPEGMAFIA                  614\n",
            "Stevie Wonder              530\n",
            "Baby Keem                  406\n",
            "Lana Del Rey               349\n",
            "The Strokes                306\n",
            "JAY-Z                      245\n",
            "Sade                       169\n",
            "The Velvet Underground     169\n",
            "Beyoncé                    165\n",
            "Sen Senra                  154\n",
            "SZA                        144\n",
            "Erykah Badu                136\n",
            "Car Seat Headrest          134\n",
            "D'Angelo                   129\n",
            "Name: artistName, dtype: int64\n"
          ]
        },
        {
          "output_type": "execute_result",
          "data": {
            "text/plain": [
              "Text(0.5, 1.0, 'TOP 10 DISCOVERED ARTISTS')"
            ]
          },
          "metadata": {},
          "execution_count": 6
        },
        {
          "output_type": "display_data",
          "data": {
            "image/png": "[encoded data removed]",
            "text/plain": [
              "<Figure size 1800x504 with 1 Axes>"
            ]
          },
          "metadata": {
            "needs_background": "light"
          }
        }
      ]
    },
    {
      "cell_type": "code",
      "metadata": {
        "colab": {
          "base_uri": "https://localhost:8080/",
          "height": 704
        },
        "id": "4UH3npKeuXg8",
        "outputId": "c7e0299f-9c34-4f99-ad7c-bf0512d3df15"
      },
      "source": [
        "\n",
        "#TOP 10 LISTENED SONGS \n",
        "top10songslistens = data['trackName'].value_counts().head(n=10)\n",
        "top10songsnames = top10songslistens.index.tolist()\n",
        "\n",
        "print(top10songslistens)\n",
        "\n",
        "\n",
        "\n",
        "plt.rcParams['figure.figsize'] = (15, 7)\n",
        "fig, ax = plt.subplots()\n",
        "\n",
        "# Save the chart so we can loop through the bars below.\n",
        "bars = ax.bar(\n",
        "    x=top10songsnames,\n",
        "    height=top10songslistens,\n",
        ")\n",
        "\n",
        "# Axis formatting.\n",
        "ax.spines['top'].set_visible(False)\n",
        "ax.spines['right'].set_visible(False)\n",
        "ax.spines['left'].set_visible(False)\n",
        "ax.spines['bottom'].set_color('#DDDDDD')\n",
        "ax.tick_params(bottom=False, left=False)\n",
        "ax.set_axisbelow(True)\n",
        "ax.yaxis.grid(True, color='#EEEEEE')\n",
        "ax.xaxis.grid(False)\n",
        "\n",
        "# Add text annotations to the top of the bars.\n",
        "bar_color = bars[0].get_facecolor()\n",
        "for bar in bars:\n",
        "  ax.text(\n",
        "      bar.get_x() + bar.get_width() / 2,\n",
        "      bar.get_height() + 0.3,\n",
        "      round(bar.get_height(), 1),\n",
        "      horizontalalignment='center',\n",
        "      color=bar_color,\n",
        "      weight='bold'\n",
        "  )\n",
        "\n",
        "# Add labels and a title. Note the use of `labelpad` and `pad` to add some\n",
        "# extra space between the text and the tick labels.\n",
        "ax.set_xlabel('Song', labelpad=15, color='#333333')\n",
        "ax.set_ylabel('Number of listens', labelpad=15, color='#333333')\n",
        "ax.set_title('TOP 10 LISTENED SONGS', pad=15, color='#333333',\n",
        "             weight='bold')\n",
        "\n",
        "plt.figure(figsize=(10,10))\n"
      ],
      "execution_count": 7,
      "outputs": [
        {
          "output_type": "stream",
          "name": "stdout",
          "text": [
            "Waves                    112\n",
            "Pink + White             104\n",
            "Nights                   101\n",
            "Ivy                       89\n",
            "Seigfried                 84\n",
            "December 24               81\n",
            "Paranoid Android          81\n",
            "Sky                       72\n",
            "No More Parties In LA     70\n",
            "Azucar                    69\n",
            "Name: trackName, dtype: int64\n"
          ]
        },
        {
          "output_type": "execute_result",
          "data": {
            "text/plain": [
              "<Figure size 720x720 with 0 Axes>"
            ]
          },
          "metadata": {},
          "execution_count": 7
        },
        {
          "output_type": "display_data",
          "data": {
            "image/png": "[encoded data removed]",
            "text/plain": [
              "<Figure size 1080x504 with 1 Axes>"
            ]
          },
          "metadata": {
            "needs_background": "light"
          }
        },
        {
          "output_type": "display_data",
          "data": {
            "text/plain": [
              "<Figure size 720x720 with 0 Axes>"
            ]
          },
          "metadata": {}
        }
      ]
    },
    {
      "cell_type": "code",
      "metadata": {
        "id": "ECnsWC0xq3Lv",
        "colab": {
          "base_uri": "https://localhost:8080/"
        },
        "outputId": "68ab9658-8ef2-4294-9f1b-7e43a283edd7"
      },
      "source": [
        "# HOURS OF LISTENING\n",
        "totales = 0\n",
        "milisegundosdf = data.msPlayed.astype('float64')\n",
        "for milis in milisegundosdf:\n",
        "  totales = totales + milis\n",
        "\n",
        "\n",
        "segundostotales = totales/1000\n",
        "minutostotales= segundostotales/60\n",
        "dias=int(segundostotales/(3600*24))\n",
        "horas=int(segundostotales/3600)\n",
        "segundostotales-=horas*3600\n",
        "minutos=int(segundostotales/60)\n",
        "segundostotales-=minutos*60\n",
        "\n",
        "print(\"\\nWell... Let's see how passionate you are about music...\\n\")\n",
        "\n",
        "print(\"\\nYour score measured in listening minutes is:\\n\")\n",
        "\n",
        "print(str(int(minutostotales))+\"\\n\")\n",
        "\n",
        "print(\"\\nSo... you have listened to music on Spotify this year exactly %s hours, %s minutes y %s seconds.\\n\" % (horas,minutos,int(segundostotales)))\n",
        "\n",
        "print(\"\\nThis means, if we make some calculations... you have been on Spotify for %s complete days.\\n\" % (dias))\n",
        "\n",
        "print(\"\\nOMG... You really meant you loved music.\\n\")\n"
      ],
      "execution_count": 12,
      "outputs": [
        {
          "output_type": "stream",
          "name": "stdout",
          "text": [
            "\n",
            "Well... Let's see how passionate you are about music...\n",
            "\n",
            "\n",
            "Your score measured in listening minutes is:\n",
            "\n",
            "78179\n",
            "\n",
            "\n",
            "So... you have listened to music on Spotify this year exactly 1302 hours, 59 minutes y 12 seconds.\n",
            "\n",
            "\n",
            "This means, if we make some calculations... you have been on Spotify for 54 complete days.\n",
            "\n",
            "\n",
            "OMG... You really meant you loved music.\n",
            "\n"
          ]
        }
      ]
    }
  ]
}